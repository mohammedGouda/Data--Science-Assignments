{
 "cells": [
  {
   "cell_type": "code",
   "execution_count": 2,
   "metadata": {},
   "outputs": [
    {
     "name": "stdout",
     "output_type": "stream",
     "text": [
      "Hello World!\n"
     ]
    }
   ],
   "source": [
    "def hello():\n",
    "    print('Hello World!')\n",
    "hello()"
   ]
  },
  {
   "cell_type": "code",
   "execution_count": 3,
   "metadata": {},
   "outputs": [
    {
     "name": "stdout",
     "output_type": "stream",
     "text": [
      "X + Y = 11\n"
     ]
    }
   ],
   "source": [
    "def add(x=0,y=0):\n",
    "    print(f'X + Y = {x+y}')\n",
    "add(5,6)"
   ]
  },
  {
   "cell_type": "code",
   "execution_count": 4,
   "metadata": {},
   "outputs": [
    {
     "name": "stdout",
     "output_type": "stream",
     "text": [
      "The squar root of your number is 4.0\n"
     ]
    }
   ],
   "source": [
    "def sqrt(x):\n",
    "    print(f'The squar root of your number is {x**(1/2)}')\n",
    "sqrt(16)"
   ]
  },
  {
   "cell_type": "code",
   "execution_count": 6,
   "metadata": {},
   "outputs": [
    {
     "name": "stdout",
     "output_type": "stream",
     "text": [
      "The area is 14.696938456699069\n"
     ]
    }
   ],
   "source": [
    "def triangle_area(a,b,c):\n",
    "    s= (a + b + c) / 2\n",
    "    print(f'The area is {(s*(s-a)*(s-b)*(s-c)) ** 0.5}')\n",
    "triangle_area(5,6,7)"
   ]
  },
  {
   "cell_type": "code",
   "execution_count": 7,
   "metadata": {},
   "outputs": [
    {
     "name": "stdout",
     "output_type": "stream",
     "text": [
      "The roots are: (-1.0, -5.0)\n"
     ]
    }
   ],
   "source": [
    "def Qad_equ(a,b,c):\n",
    "    x1=(-b+(b**2-4*a*c)**.5)/(2*a)\n",
    "    x2=(-b-(b**2-4*a*c)**.5)/(2*a)\n",
    "    print(f'The roots are: {x1 , x2}')\n",
    "Qad_equ(1,6,5)"
   ]
  },
  {
   "cell_type": "code",
   "execution_count": 14,
   "metadata": {},
   "outputs": [
    {
     "name": "stdout",
     "output_type": "stream",
     "text": [
      "59\n"
     ]
    }
   ],
   "source": [
    "def Random():\n",
    "    import random\n",
    "    print(random.randint(0,100))\n",
    "Random()"
   ]
  },
  {
   "cell_type": "code",
   "execution_count": null,
   "metadata": {},
   "outputs": [],
   "source": []
  }
 ],
 "metadata": {
  "kernelspec": {
   "display_name": "Python 3",
   "language": "python",
   "name": "python3"
  },
  "language_info": {
   "codemirror_mode": {
    "name": "ipython",
    "version": 3
   },
   "file_extension": ".py",
   "mimetype": "text/x-python",
   "name": "python",
   "nbconvert_exporter": "python",
   "pygments_lexer": "ipython3",
   "version": "3.7.6"
  }
 },
 "nbformat": 4,
 "nbformat_minor": 4
}
